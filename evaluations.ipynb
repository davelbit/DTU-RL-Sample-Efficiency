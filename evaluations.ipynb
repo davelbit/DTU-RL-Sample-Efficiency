{
 "cells": [
  {
   "cell_type": "markdown",
   "metadata": {
    "pycharm": {
     "name": "#%% "
    }
   },
   "source": [
    "# Project Deep Learning - Implementation and Hyperparameter tuning of the SAC Algorithm"
   ]
  },
  {
   "cell_type": "markdown",
   "metadata": {},
   "source": [
    "In this notebook we show the results of the evaluations. However, the training of the network would take too long. Hence, we will use the pretrained networks in this notebook and will present the results of the each of the networks. We further did more extensive hyperparameter tests than described in this notebook. However, we chose to only show the most significant insights of our research.\n",
    "\n",
    "In the following parts we will first give a small introduction in how to run our code base as well as the main structure of the git-repository.\n",
    "Afterwards we show the different hyperparameter tests we did. To do so we will present the used hyperparameter ranges as well as the result from these test."
   ]
  },
  {
   "cell_type": "markdown",
   "metadata": {
    "pycharm": {
     "name": "#%% md\n"
    }
   },
   "source": [
    "## Code needed to run this Notebook"
   ]
  },
  {
   "cell_type": "code",
   "execution_count": 17,
   "metadata": {},
   "outputs": [],
   "source": [
    "from IPython.display import HTML\n",
    "\n",
    "\n",
    "def show_video(link):\n",
    "   return HTML(\n",
    "       f\"\"\" <video width=\"320\" height=\"240\" autoplay loop><source src=\"{link}\" type=\"video/mp4\"></video>\n",
    "    \"\"\")"
   ]
  },
  {
   "cell_type": "markdown",
   "metadata": {
    "pycharm": {
     "name": "#%% md\n"
    }
   },
   "source": [
    "## Structure of the code base and guide for self-training"
   ]
  },
  {
   "cell_type": "markdown",
   "source": [
    "The main file of execution of the repository is the ```main.py``` file in the root folder. In this file we are setting the default hyperparameters (```parameter``` variable). The given default values are then used for the argument parser. In the ```hyperparameter_space``` variable we then can then set ranges of the hyperparameters we want to train on. To be able to show deterministic behaviour we are setting a seed on numpy, pyTorch and the random package.\n",
    "\n",
    "From here the ```train.py``` in the ```SAC_Implementation``` folder is called. In here the training of the SAC Algorithm is implemented (see method ```run_sac()```). The logic of the SAC Algorithm itself is defined in the ```SAC_Implementation/SACAlgorithm.py``` script. \n",
    "\n",
    "Within ever iteration of the hyperparameter tuning we are saving the model as well as the result of each respective run. With the ```hp_evaluation``` file we then can run post-analysises on the runs. \n",
    "\n",
    "The above described files are representing the core of the repository. For more information see the inline comments. "
   ],
   "metadata": {
    "collapsed": false
   }
  },
  {
   "cell_type": "markdown",
   "source": [
    "# Hyperparameter Space Tuning"
   ],
   "metadata": {
    "collapsed": false
   }
  },
  {
   "cell_type": "markdown",
   "source": [
    "## Gamma $\\gamma$ - Coefficient for future Rewards"
   ],
   "metadata": {
    "collapsed": false
   }
  },
  {
   "cell_type": "code",
   "execution_count": null,
   "outputs": [],
   "source": [],
   "metadata": {
    "collapsed": false,
    "pycharm": {
     "name": "#%%\n"
    }
   }
  },
  {
   "cell_type": "markdown",
   "source": [
    "## Tau $\\tau$ -  Factor for Polyak Averaging"
   ],
   "metadata": {
    "collapsed": false
   }
  },
  {
   "cell_type": "code",
   "execution_count": null,
   "outputs": [],
   "source": [],
   "metadata": {
    "collapsed": false,
    "pycharm": {
     "name": "#%%\n"
    }
   }
  },
  {
   "cell_type": "markdown",
   "source": [
    "## Alpha $\\alpha$ and Alpha Decay"
   ],
   "metadata": {
    "collapsed": false
   }
  },
  {
   "cell_type": "markdown",
   "source": [
    "## Creation of RL-Networks"
   ],
   "metadata": {
    "collapsed": false
   }
  },
  {
   "cell_type": "code",
   "execution_count": null,
   "outputs": [],
   "source": [
    "show_video(\"paper_videos/video_balance_working_episode_495.mp4\")"
   ],
   "metadata": {
    "collapsed": false,
    "pycharm": {
     "name": "#%%\n"
    }
   }
  },
  {
   "cell_type": "markdown",
   "source": [
    "# Discussion"
   ],
   "metadata": {
    "collapsed": false
   }
  },
  {
   "cell_type": "markdown",
   "metadata": {},
   "source": []
  },
  {
   "cell_type": "markdown",
   "metadata": {},
   "source": [
    "# Hyperparameter Space Tuning"
   ]
  },
  {
   "cell_type": "markdown",
   "metadata": {},
   "source": [
    "## Gamma $\\gamma$ - Coefficient for future Rewards"
   ]
  },
  {
   "cell_type": "code",
   "execution_count": 10,
   "metadata": {},
   "outputs": [],
   "source": []
  },
  {
   "cell_type": "markdown",
   "metadata": {},
   "source": [
    "## Tau $\\tau$ -  Factor for Polyak Averaging"
   ]
  },
  {
   "cell_type": "code",
   "execution_count": null,
   "metadata": {},
   "outputs": [],
   "source": []
  },
  {
   "cell_type": "markdown",
   "metadata": {},
   "source": [
    "## Alpha $\\alpha$ and Alpha Decay"
   ]
  },
  {
   "cell_type": "markdown",
   "metadata": {},
   "source": [
    "## Creation of RL-Networks"
   ]
  },
  {
   "cell_type": "code",
   "execution_count": 18,
   "metadata": {},
   "outputs": [
    {
     "data": {
      "text/html": [
       " <video width=\"320\" height=\"240\" autoplay loop><source src=\"paper_videos/video_balance_working_episode_495.mp4\" type=\"video/mp4\"></video>\n",
       "    "
      ],
      "text/plain": [
       "<IPython.core.display.HTML object>"
      ]
     },
     "execution_count": 18,
     "metadata": {},
     "output_type": "execute_result"
    }
   ],
   "source": [
    "show_video(\"paper_videos/video_balance_working_episode_495.mp4\")"
   ]
  },
  {
   "cell_type": "markdown",
   "metadata": {},
   "source": [
    "# Discussion"
   ]
  },
  {
   "cell_type": "code",
   "execution_count": null,
   "metadata": {},
   "outputs": [],
   "source": []
  }
 ],
 "metadata": {
  "kernelspec": {
   "display_name": "Python 3",
   "language": "python",
   "name": "python3"
  },
  "language_info": {
   "codemirror_mode": {
    "name": "ipython",
    "version": 3
   },
   "file_extension": ".py",
   "mimetype": "text/x-python",
   "name": "python",
   "nbconvert_exporter": "python",
   "pygments_lexer": "ipython3",
   "version": "3.6.7"
  }
 },
 "nbformat": 4,
 "nbformat_minor": 1
}